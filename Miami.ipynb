{
 "cells": [
  {
   "cell_type": "markdown",
   "metadata": {
    "pycharm": {
     "name": "#%% md\n"
    }
   },
   "source": [
    "## Aggregate locations of dense [AIS broadcast reports](https://marinecadastre.gov/ais) at the port of Miami, FL."
   ]
  },
  {
   "cell_type": "code",
   "execution_count": 9,
   "metadata": {
    "pycharm": {
     "name": "#%%\n"
    }
   },
   "outputs": [],
   "source": [
    "gdb_path = os.path.join('data','Miami.gdb')"
   ]
  },
  {
   "cell_type": "code",
   "execution_count": 10,
   "metadata": {},
   "outputs": [
    {
     "name": "stdout",
     "output_type": "stream",
     "text": [
      "+---+-------------------------+----------+\n",
      "|ID |Name                     |FileFormat|\n",
      "+---+-------------------------+----------+\n",
      "|1  |GDB_SystemCatalog        |0         |\n",
      "|2  |GDB_DBTune               |0         |\n",
      "|3  |GDB_SpatialRefs          |0         |\n",
      "|4  |GDB_Items                |0         |\n",
      "|5  |GDB_ItemRelationships    |0         |\n",
      "|6  |GDB_ItemRelationshipTypes|0         |\n",
      "|7  |GDB_ItemTypes            |0         |\n",
      "|8  |GDB_ReplicaLog           |2         |\n",
      "|9  |MiamiExtent              |0         |\n",
      "|10 |Voyage                   |0         |\n",
      "|11 |Broadcast                |0         |\n",
      "|12 |Vessel                   |0         |\n",
      "|13 |BaseStations             |0         |\n",
      "|14 |AttributeUnits           |0         |\n",
      "|15 |Extent                   |0         |\n",
      "+---+-------------------------+----------+\n",
      "\n"
     ]
    }
   ],
   "source": [
    "df = spark\\\n",
    "    .read \\\n",
    "    .format(\"gdb\") \\\n",
    "    .options(path=gdb_path, name=\"GDB_SystemCatalog\") \\\n",
    "    .load()\\\n",
    "    .show(truncate=False)"
   ]
  },
  {
   "cell_type": "markdown",
   "metadata": {
    "pycharm": {
     "name": "#%% md\n"
    }
   },
   "source": [
    "### Create a Spark Dataframe and register it as a table for upcoming SQL operations"
   ]
  },
  {
   "cell_type": "code",
   "execution_count": 11,
   "metadata": {
    "pycharm": {
     "name": "#%%\n"
    }
   },
   "outputs": [],
   "source": [
    "df = spark\\\n",
    "    .read \\\n",
    "    .format(\"com.esri.gdb\") \\\n",
    "    .options(path=gdb_path, name=\"Broadcast\") \\\n",
    "    .load()"
   ]
  },
  {
   "cell_type": "code",
   "execution_count": 12,
   "metadata": {},
   "outputs": [
    {
     "name": "stdout",
     "output_type": "stream",
     "text": [
      "root\n",
      " |-- OBJECTID: integer (nullable = false)\n",
      " |-- Shape: struct (nullable = true)\n",
      " |    |-- x: double (nullable = true)\n",
      " |    |-- y: double (nullable = true)\n",
      " |-- SOG: integer (nullable = true)\n",
      " |-- COG: integer (nullable = true)\n",
      " |-- Heading: integer (nullable = true)\n",
      " |-- ROT: integer (nullable = true)\n",
      " |-- BaseDateTime: timestamp (nullable = true)\n",
      " |-- Status: integer (nullable = true)\n",
      " |-- VoyageID: integer (nullable = true)\n",
      " |-- MMSI: integer (nullable = true)\n",
      " |-- ReceiverType: string (nullable = true)\n",
      " |-- ReceiverID: string (nullable = true)\n",
      "\n"
     ]
    }
   ],
   "source": [
    "df.printSchema()"
   ]
  },
  {
   "cell_type": "code",
   "execution_count": 13,
   "metadata": {
    "pycharm": {
     "name": "#%%\n"
    }
   },
   "outputs": [],
   "source": [
    "df.createOrReplaceTempView(\"Broadcast\")"
   ]
  },
  {
   "cell_type": "markdown",
   "metadata": {
    "pycharm": {
     "name": "#%% md\n"
    }
   },
   "source": [
    "Create temp table `QR` by mapping a `Broadcast` event to a cell location.  The cell size is 0.001 degrees."
   ]
  },
  {
   "cell_type": "code",
   "execution_count": 14,
   "metadata": {
    "pycharm": {
     "name": "#%%\n"
    }
   },
   "outputs": [],
   "source": [
    "cell_1 = 0.001\n",
    "cell_2 = cell_1 * 0.5\n",
    "\n",
    "sql(f\"\"\"\n",
    "select\n",
    "cast(floor(Shape.x/{cell_1}) as INT) as q,\n",
    "cast(floor(Shape.y/{cell_1}) as INT) as r\n",
    "from Broadcast\n",
    "\"\"\")\\\n",
    "    .createOrReplaceTempView(\"QR\")"
   ]
  },
  {
   "cell_type": "markdown",
   "metadata": {
    "pycharm": {
     "name": "#%% md\n"
    }
   },
   "source": [
    "Aggregate by cell and report back only the cells with more that 100 `Broadcast` events.\n",
    "Map each cell q/r to an x/y geo location and convert the Spark dataframe into a Pandas dataframe."
   ]
  },
  {
   "cell_type": "code",
   "execution_count": 15,
   "metadata": {
    "pycharm": {
     "name": "#%%\n"
    }
   },
   "outputs": [
    {
     "name": "stderr",
     "output_type": "stream",
     "text": [
      "[Stage 9:======================>                                    (3 + 5) / 8]\r"
     ]
    },
    {
     "name": "stdout",
     "output_type": "stream",
     "text": [
      "+--------+-------+-----+\n",
      "|       x|      y|  pop|\n",
      "+--------+-------+-----+\n",
      "|-80.2455|25.7965|12737|\n",
      "|-80.1505|25.7655|  240|\n",
      "|-80.1265|25.7605|  201|\n",
      "|-80.0845|25.7935| 5279|\n",
      "|-80.1605|25.7735|17623|\n",
      "|-80.1485|25.7655| 1600|\n",
      "|-80.1645|25.7665|  136|\n",
      "|-80.1665|25.7755| 2935|\n",
      "|-80.1535|25.7665| 2823|\n",
      "|-80.1785|25.7805| 2093|\n",
      "|-80.1495|25.7665|  237|\n",
      "|-80.2465|25.7975|22725|\n",
      "|-80.2515|25.8015|15007|\n",
      "|-80.1685|25.7705| 4349|\n",
      "|-80.1655|25.7675|  160|\n",
      "|-80.1605|25.7655|  126|\n",
      "|-80.1765|25.7815|  160|\n",
      "|-80.1425|25.7665|  190|\n",
      "|-80.1055|25.7595|  144|\n",
      "|-80.2145|25.7815|  177|\n",
      "+--------+-------+-----+\n",
      "only showing top 20 rows\n",
      "\n"
     ]
    },
    {
     "name": "stderr",
     "output_type": "stream",
     "text": [
      "                                                                                \r"
     ]
    }
   ],
   "source": [
    "sql(f\"\"\"\n",
    "select\n",
    "q*{cell_1}+{cell_2} as x,\n",
    "r*{cell_1}+{cell_2} as y,\n",
    "count(1) as pop\n",
    "from QR\n",
    "group by q,r\n",
    "having pop > 100\n",
    "\"\"\")\\\n",
    "    .show()"
   ]
  }
 ],
 "metadata": {
  "kernelspec": {
   "display_name": "Python 3 (ipykernel)",
   "language": "python",
   "name": "python3"
  },
  "language_info": {
   "codemirror_mode": {
    "name": "ipython",
    "version": 3
   },
   "file_extension": ".py",
   "mimetype": "text/x-python",
   "name": "python",
   "nbconvert_exporter": "python",
   "pygments_lexer": "ipython3",
   "version": "3.8.13"
  }
 },
 "nbformat": 4,
 "nbformat_minor": 4
}
