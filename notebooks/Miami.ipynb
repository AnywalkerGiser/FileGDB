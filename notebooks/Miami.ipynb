{
 "cells": [
  {
   "cell_type": "markdown",
   "metadata": {
    "pycharm": {
     "name": "#%% md\n"
    }
   },
   "source": [
    "## Aggregate locations of dense [AIS broadcast reports](https://marinecadastre.gov/ais) at the port of Miami, FL."
   ]
  },
  {
   "cell_type": "code",
   "execution_count": 3,
   "metadata": {
    "pycharm": {
     "name": "#%%\n"
    }
   },
   "outputs": [],
   "source": [
    "gdb_path = os.path.expanduser(os.path.join(\"~\", \"data\", \"Miami.gdb\"))"
   ]
  },
  {
   "cell_type": "code",
   "execution_count": 4,
   "metadata": {},
   "outputs": [
    {
     "name": "stderr",
     "output_type": "stream",
     "text": [
      "23/10/11 09:49:51 DEBUG GDBIndex$: \u001b[33mGDBHeader:version=3, numPages=1, numRows=14, numBytesPerRow=5, bitMapOffset=5136, maxRows=1024\u001b[0m\n",
      "23/10/11 09:49:51 DEBUG GDBIndex$: \u001b[33mGDBBitmap:size=0, numBits=1, numBitsSet=1, lastBit=0\u001b[0m\n",
      "23/10/11 09:49:51 DEBUG GDBTable$: Caching '/Users/mraad/data/Miami.gdb/a00000001.gdbtable'...\n",
      "23/10/11 09:49:51 DEBUG GDBTable$: numFeatures=14\n",
      "23/10/11 09:49:51 DEBUG GDBTable$: geometryType=0 (Unknown)\n",
      "23/10/11 09:49:51 DEBUG GDBTable$: hasZ=false hasM=false\n",
      "23/10/11 09:49:51 DEBUG GDBTable$: numFields=3\n",
      "23/10/11 09:49:52 DEBUG GDBRDD: Max rows per partition=14\n",
      "23/10/11 09:49:52 DEBUG GDBRDD: startAtRow=0 numRowsToRead=14\n"
     ]
    },
    {
     "name": "stdout",
     "output_type": "stream",
     "text": [
      "+---+-------------------------+----------+\n",
      "|ID |Name                     |FileFormat|\n",
      "+---+-------------------------+----------+\n",
      "|1  |GDB_SystemCatalog        |0         |\n",
      "|2  |GDB_DBTune               |0         |\n",
      "|3  |GDB_SpatialRefs          |0         |\n",
      "|4  |GDB_Items                |0         |\n",
      "|5  |GDB_ItemRelationships    |0         |\n",
      "|6  |GDB_ItemRelationshipTypes|0         |\n",
      "|7  |GDB_ItemTypes            |0         |\n",
      "|8  |GDB_ReplicaLog           |2         |\n",
      "|9  |MiamiExtent              |0         |\n",
      "|10 |Voyage                   |0         |\n",
      "|11 |Broadcast                |0         |\n",
      "|12 |Vessel                   |0         |\n",
      "|13 |BaseStations             |0         |\n",
      "|14 |AttributeUnits           |0         |\n",
      "+---+-------------------------+----------+\n",
      "\n"
     ]
    },
    {
     "name": "stderr",
     "output_type": "stream",
     "text": [
      "                                                                                \r"
     ]
    }
   ],
   "source": [
    "df = spark.read.format(\"gdb\").options(path=gdb_path).load().show(truncate=False)"
   ]
  },
  {
   "cell_type": "markdown",
   "metadata": {
    "pycharm": {
     "name": "#%% md\n"
    }
   },
   "source": [
    "### Create a Spark Dataframe and register it as a table for upcoming SQL operations"
   ]
  },
  {
   "cell_type": "code",
   "execution_count": 5,
   "metadata": {
    "pycharm": {
     "name": "#%%\n"
    }
   },
   "outputs": [
    {
     "name": "stderr",
     "output_type": "stream",
     "text": [
      "23/10/11 09:50:10 DEBUG GDBTable$: Caching '/Users/mraad/data/Miami.gdb/a0000000b.gdbtable'...\n",
      "23/10/11 09:50:10 DEBUG GDBTable$: numFeatures=1365578\n",
      "23/10/11 09:50:10 DEBUG GDBTable$: geometryType=1 (Point)\n",
      "23/10/11 09:50:10 DEBUG GDBTable$: hasZ=false hasM=false\n",
      "23/10/11 09:50:10 DEBUG GDBTable$: numFields=12\n",
      "23/10/11 09:50:10 DEBUG GDBTable$: {\"ymax\":25.950708000000006,\"srsWKT\":\"GEOGCS[\\\"GCS_WGS_1984\\\",DATUM[\\\"D_WGS_1984\\\",SPHEROID[\\\"WGS_1984\\\",6378137.0,298.257223563]],PRIMEM[\\\"Greenwich\\\",0.0],UNIT[\\\"Degree\\\",0.0174532925199433]]\",\"xmin\":-80.282093,\"ymin\":25.591130000000007,\"xmax\":-79.75126,\"hasM\":false,\"alias\":\"Shape\",\"hasZ\":false,\"geomType\":1}\n"
     ]
    }
   ],
   "source": [
    "df = spark.read.format(\"gdb\").options(path=gdb_path, name=\"Broadcast\").load()"
   ]
  },
  {
   "cell_type": "code",
   "execution_count": 6,
   "metadata": {},
   "outputs": [
    {
     "name": "stdout",
     "output_type": "stream",
     "text": [
      "root\n",
      " |-- OBJECTID: integer (nullable = false)\n",
      " |-- Shape: struct (nullable = true)\n",
      " |    |-- x: double (nullable = true)\n",
      " |    |-- y: double (nullable = true)\n",
      " |-- SOG: integer (nullable = true)\n",
      " |-- COG: integer (nullable = true)\n",
      " |-- Heading: integer (nullable = true)\n",
      " |-- ROT: integer (nullable = true)\n",
      " |-- BaseDateTime: timestamp (nullable = true)\n",
      " |-- Status: integer (nullable = true)\n",
      " |-- VoyageID: integer (nullable = true)\n",
      " |-- MMSI: integer (nullable = true)\n",
      " |-- ReceiverType: string (nullable = true)\n",
      " |-- ReceiverID: string (nullable = true)\n",
      "\n"
     ]
    }
   ],
   "source": [
    "df.printSchema()"
   ]
  },
  {
   "cell_type": "code",
   "execution_count": 7,
   "metadata": {},
   "outputs": [
    {
     "data": {
      "text/plain": [
       "{'ymax': 25.950708000000006,\n",
       " 'srsWKT': 'GEOGCS[\"GCS_WGS_1984\",DATUM[\"D_WGS_1984\",SPHEROID[\"WGS_1984\",6378137.0,298.257223563]],PRIMEM[\"Greenwich\",0.0],UNIT[\"Degree\",0.0174532925199433]]',\n",
       " 'xmin': -80.282093,\n",
       " 'ymin': 25.591130000000007,\n",
       " 'xmax': -79.75126,\n",
       " 'hasM': False,\n",
       " 'alias': 'Shape',\n",
       " 'hasZ': False,\n",
       " 'geomType': 1}"
      ]
     },
     "execution_count": 7,
     "metadata": {},
     "output_type": "execute_result"
    }
   ],
   "source": [
    "df.schema[\"Shape\"].metadata"
   ]
  },
  {
   "cell_type": "code",
   "execution_count": 8,
   "metadata": {},
   "outputs": [
    {
     "name": "stderr",
     "output_type": "stream",
     "text": [
      "23/10/11 09:51:11 DEBUG GDBIndex$: \u001b[33mGDBHeader:version=3, numPages=11568, numRows=11845541, numBytesPerRow=5, bitMapOffset=59228176, maxRows=11845632\u001b[0m\n",
      "23/10/11 09:51:11 DEBUG GDBIndex$: \u001b[33mGDBBitmap:size=0, numBits=11568, numBitsSet=11568, lastBit=0\u001b[0m\n",
      "23/10/11 09:51:11 DEBUG GDBRDD: Max rows per partition=592278\n",
      "23/10/11 09:51:11 DEBUG GDBRDD: startAtRow=0 numRowsToRead=592278\n",
      "23/10/11 09:51:11 DEBUG GDBRDD: startAtRow=592278 numRowsToRead=592278\n",
      "23/10/11 09:51:11 DEBUG GDBRDD: startAtRow=1184556 numRowsToRead=592278\n",
      "23/10/11 09:51:11 DEBUG GDBRDD: startAtRow=1776834 numRowsToRead=592278\n",
      "23/10/11 09:51:11 DEBUG GDBRDD: startAtRow=2369112 numRowsToRead=592278\n",
      "23/10/11 09:51:11 DEBUG GDBRDD: startAtRow=2961390 numRowsToRead=592278\n",
      "23/10/11 09:51:11 DEBUG GDBRDD: startAtRow=3553668 numRowsToRead=592278\n",
      "23/10/11 09:51:11 DEBUG GDBRDD: startAtRow=4145946 numRowsToRead=592278\n",
      "23/10/11 09:51:11 DEBUG GDBRDD: startAtRow=4738224 numRowsToRead=592278\n",
      "23/10/11 09:51:11 DEBUG GDBRDD: startAtRow=5330502 numRowsToRead=592278\n",
      "23/10/11 09:51:11 DEBUG GDBRDD: startAtRow=5922780 numRowsToRead=592278\n",
      "23/10/11 09:51:11 DEBUG GDBRDD: startAtRow=6515058 numRowsToRead=592278\n",
      "23/10/11 09:51:11 DEBUG GDBRDD: startAtRow=7107336 numRowsToRead=592278\n",
      "23/10/11 09:51:11 DEBUG GDBRDD: startAtRow=7699614 numRowsToRead=592278\n",
      "23/10/11 09:51:11 DEBUG GDBRDD: startAtRow=8291892 numRowsToRead=592278\n",
      "23/10/11 09:51:11 DEBUG GDBRDD: startAtRow=8884170 numRowsToRead=592278\n",
      "23/10/11 09:51:11 DEBUG GDBRDD: startAtRow=9476448 numRowsToRead=592278\n",
      "23/10/11 09:51:11 DEBUG GDBRDD: startAtRow=10068726 numRowsToRead=592278\n",
      "23/10/11 09:51:11 DEBUG GDBRDD: startAtRow=10661004 numRowsToRead=592278\n",
      "23/10/11 09:51:11 DEBUG GDBRDD: startAtRow=11253282 numRowsToRead=592259\n",
      "                                                                                \r"
     ]
    }
   ],
   "source": [
    "df.select(\"OBJECTID\").write.parquet(\"/tmp/tmp.prq\", mode=\"overwrite\")"
   ]
  },
  {
   "cell_type": "markdown",
   "metadata": {},
   "source": [
    "1365578"
   ]
  },
  {
   "cell_type": "code",
   "execution_count": 10,
   "metadata": {},
   "outputs": [
    {
     "data": {
      "text/plain": [
       "1365578"
      ]
     },
     "execution_count": 10,
     "metadata": {},
     "output_type": "execute_result"
    }
   ],
   "source": [
    "spark.read.parquet(\"/tmp/tmp.prq\").count()"
   ]
  },
  {
   "cell_type": "code",
   "execution_count": null,
   "metadata": {},
   "outputs": [],
   "source": []
  }
 ],
 "metadata": {
  "kernelspec": {
   "display_name": "Python 3 (ipykernel)",
   "language": "python",
   "name": "python3"
  },
  "language_info": {
   "codemirror_mode": {
    "name": "ipython",
    "version": 3
   },
   "file_extension": ".py",
   "mimetype": "text/x-python",
   "name": "python",
   "nbconvert_exporter": "python",
   "pygments_lexer": "ipython3",
   "version": "3.10.12"
  }
 },
 "nbformat": 4,
 "nbformat_minor": 4
}
