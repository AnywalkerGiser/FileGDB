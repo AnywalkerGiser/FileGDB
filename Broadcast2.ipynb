{
 "cells": [
  {
   "cell_type": "code",
   "execution_count": null,
   "metadata": {},
   "outputs": [],
   "source": [
    "import os"
   ]
  },
  {
   "cell_type": "code",
   "execution_count": null,
   "metadata": {},
   "outputs": [],
   "source": [
    "jvm = spark.sparkContext._jvm\n",
    "gdb = jvm.com.esri.gdb.FileGDB"
   ]
  },
  {
   "cell_type": "code",
   "execution_count": null,
   "metadata": {},
   "outputs": [],
   "source": [
    "gdb_path = os.path.join(\"data\",\"Miami.gdb\")\n",
    "for tab in gdb.listTables(gdb_path):\n",
    "    print(tab)"
   ]
  },
  {
   "cell_type": "code",
   "execution_count": null,
   "metadata": {},
   "outputs": [],
   "source": [
    "df = spark.read \\\n",
    "    .format('com.esri.gdb') \\\n",
    "    .options(path=gdb_path, name='Broadcast') \\\n",
    "    .load()"
   ]
  },
  {
   "cell_type": "code",
   "execution_count": null,
   "metadata": {},
   "outputs": [],
   "source": [
    "df.printSchema()"
   ]
  },
  {
   "cell_type": "code",
   "execution_count": null,
   "metadata": {},
   "outputs": [],
   "source": [
    "df.count()"
   ]
  },
  {
   "cell_type": "code",
   "execution_count": null,
   "metadata": {},
   "outputs": [],
   "source": [
    "df.show()"
   ]
  },
  {
   "cell_type": "code",
   "execution_count": null,
   "metadata": {},
   "outputs": [],
   "source": [
    "df.registerTempTable(\"bc\")"
   ]
  },
  {
   "cell_type": "code",
   "execution_count": null,
   "metadata": {},
   "outputs": [],
   "source": [
    "sql(\"\"\"\n",
    "select mmsi,dt1,x1,y1,dt2,x2,y2 from (\n",
    "select MMSI mmsi,\n",
    "BaseDateTime as dt1,\n",
    "Shape.x as x1,\n",
    "Shape.y as y1,\n",
    "lead(BaseDateTime) over (partition by MMSI order by BaseDateTime) as dt2,\n",
    "lead(Shape.x) over (partition by MMSI order by BaseDateTime) as x2,\n",
    "lead(Shape.y) over (partition by MMSI order by BaseDateTime) as y2\n",
    "from bc\n",
    ")\n",
    "where dt1 < dt2\n",
    "\"\"\").show(100, truncate=True)"
   ]
  }
 ],
 "metadata": {
  "kernelspec": {
   "display_name": "Python 3",
   "language": "python",
   "name": "python3"
  },
  "language_info": {
   "codemirror_mode": {
    "name": "ipython",
    "version": 3
   },
   "file_extension": ".py",
   "mimetype": "text/x-python",
   "name": "python",
   "nbconvert_exporter": "python",
   "pygments_lexer": "ipython3",
   "version": "3.6.8"
  }
 },
 "nbformat": 4,
 "nbformat_minor": 2
}
